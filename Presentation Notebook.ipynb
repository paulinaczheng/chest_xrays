{
 "cells": [
  {
   "cell_type": "markdown",
   "metadata": {},
   "source": [
    "# Identifying Pathology in Chest X-Rays"
   ]
  },
  {
   "cell_type": "markdown",
   "metadata": {},
   "source": [
    "## Business Justification"
   ]
  },
  {
   "cell_type": "markdown",
   "metadata": {},
   "source": [
    "* Improve medical diagnostic technology and make it more accessible (less need for physicians)"
   ]
  },
  {
   "cell_type": "code",
   "execution_count": 20,
   "metadata": {},
   "outputs": [
    {
     "data": {
      "text/html": [
       "<style id=hide>div.input{display:none;}</style><button type=\"button\"onclick=\"var myStyle = document.getElementById('hide').sheet;myStyle.insertRule('div.input{display:inherit !important;}', 0);\">Show inputs</button>"
      ],
      "text/plain": [
       "<IPython.core.display.HTML object>"
      ]
     },
     "metadata": {},
     "output_type": "display_data"
    }
   ],
   "source": [
    "from IPython.core.display import display, HTML\n",
    "display(HTML(r\"\"\"<style id=hide>div.input{display:none;}</style><button type=\"button\"onclick=\"var myStyle = document.getElementById('hide').sheet;myStyle.insertRule('div.input{display:inherit !important;}', 0);\">Show inputs</button>\"\"\"))"
   ]
  },
  {
   "cell_type": "code",
   "execution_count": 1,
   "metadata": {},
   "outputs": [
    {
     "name": "stderr",
     "output_type": "stream",
     "text": [
      "/anaconda3/lib/python3.6/site-packages/h5py/__init__.py:36: FutureWarning: Conversion of the second argument of issubdtype from `float` to `np.floating` is deprecated. In future, it will be treated as `np.float64 == np.dtype(float).type`.\n",
      "  from ._conv import register_converters as _register_converters\n",
      "Using TensorFlow backend.\n"
     ]
    }
   ],
   "source": [
    "import cv2\n",
    "import os\n",
    "import random\n",
    "from glob import glob\n",
    "import pandas as pd\n",
    "import seaborn as sns\n",
    "import matplotlib.pylab as plt\n",
    "%matplotlib inline\n",
    "from ipywidgets import widgets,interact, interactive, fixed, interact_manual\n",
    "import numpy as np\n",
    "import keras \n",
    "from keras.preprocessing.image import img_to_array\n",
    "from keras.models import model_from_json\n",
    "from sklearn.metrics import confusion_matrix\n",
    "from ipywidgets import widgets,interact, interactive, fixed, interact_manual\n",
    "from IPython.display import display, clear_output, Markdown, Image\n",
    "from ipywidgets.widgets.interaction import show_inline_matplotlib_plots\n",
    "from sklearn.model_selection import train_test_split\n",
    "from sklearn.utils import class_weight\n",
    "from keras import optimizers\n",
    "from keras.callbacks import ModelCheckpoint, LearningRateScheduler, TensorBoard, EarlyStopping"
   ]
  },
  {
   "cell_type": "code",
   "execution_count": 2,
   "metadata": {},
   "outputs": [],
   "source": [
    "# load json and create model\n",
    "balanced_mlp = open('balanced_mlp_model.json', 'r')\n",
    "balanced_mlp_json = balanced_mlp.read()\n",
    "balanced_mlp.close()\n",
    "balanced_mlp_model = model_from_json(balanced_mlp_json)\n",
    "# load weights into new model\n",
    "balanced_mlp_model.load_weights(\"balanced_mlp_model.h5\")\n",
    "\n",
    "# load json and create model\n",
    "ros_mlp = open('ros_mlp_model.json', 'r')\n",
    "ros_mlp_json = ros_mlp.read()\n",
    "ros_mlp.close()\n",
    "ros_mlp_model = model_from_json(ros_mlp_json)\n",
    "# load weights into new model\n",
    "ros_mlp_model.load_weights(\"ros_mlp_model.h5\")\n",
    "\n",
    "# load json and create model\n",
    "ros_cnn = open('ros_cnn.json', 'r')\n",
    "ros_cnn_json = ros_cnn.read()\n",
    "ros_cnn.close()\n",
    "ros_cnn_model = model_from_json(ros_cnn_json)\n",
    "# load weights into new model\n",
    "ros_cnn_model.load_weights(\"model.h5\")\n"
   ]
  },
  {
   "cell_type": "code",
   "execution_count": 3,
   "metadata": {},
   "outputs": [],
   "source": [
    "# Load npz file containing image arrays\n",
    "x_npz = np.load(\"x_images_arrays.npz\")\n",
    "x = x_npz['arr_0']\n",
    "# Load disease labels\n",
    "y_npz = np.load(\"y_disease_labels.npz\")\n",
    "y = y_npz['arr_0']"
   ]
  },
  {
   "cell_type": "code",
   "execution_count": 4,
   "metadata": {},
   "outputs": [],
   "source": [
    "X_train, X_test, y_train, y_test = train_test_split(x,y, test_size=0.2)\n",
    "X_train_reshape = X_train.reshape(X_train.shape[0], -1).astype('float32')\n",
    "X_test_reshape = X_test.reshape(X_test.shape[0], -1).astype('float32')\n",
    "#one-hot encode y_train & y_test\n",
    "y_trainHot = keras.utils.to_categorical(y_train, 8)\n",
    "y_testHot = keras.utils.to_categorical(y_test, 8)"
   ]
  },
  {
   "cell_type": "code",
   "execution_count": 5,
   "metadata": {},
   "outputs": [],
   "source": [
    "# ../input/\n",
    "PATH = os.path.abspath(os.path.join('input'))\n",
    "\n",
    "# ../input/sample/images/\n",
    "SOURCE_IMAGES = os.path.join(PATH, \"sample\", \"images\")\n",
    "\n",
    "# ../input/sample/images/*.png\n",
    "images = glob(os.path.join(SOURCE_IMAGES, \"*.png\"))\n",
    "\n",
    "# Load labels\n",
    "labels = pd.read_csv('input/sample_labels.csv')"
   ]
  },
  {
   "cell_type": "markdown",
   "metadata": {},
   "source": [
    "## Process Overview"
   ]
  },
  {
   "cell_type": "markdown",
   "metadata": {},
   "source": [
    "* Exploratory data analysis \n",
    "* Feed-forward neural networks (MLP) with class weights and random over-sampling\n",
    "* Convolutional neural networks with class weights, random over-sampling, data augmentation\n",
    "* Transfer learning (vgg19) \n",
    "\n",
    "**Meta-Analysis**\n",
    "* Binary disease classification (disease Y/N)"
   ]
  },
  {
   "cell_type": "markdown",
   "metadata": {},
   "source": [
    "## Exploratory Data Analysis"
   ]
  },
  {
   "cell_type": "markdown",
   "metadata": {},
   "source": [
    "### Sample X-Ray Images by Disease"
   ]
  },
  {
   "cell_type": "markdown",
   "metadata": {},
   "source": [
    "Select a pathology to see a sample representative image."
   ]
  },
  {
   "cell_type": "code",
   "execution_count": 7,
   "metadata": {},
   "outputs": [
    {
     "data": {
      "application/vnd.jupyter.widget-view+json": {
       "model_id": "003356043c714675bed1c9dc6f19a212",
       "version_major": 2,
       "version_minor": 0
      },
      "text/plain": [
       "interactive(children=(Dropdown(description='pathology', options=('Hernia', 'Pneumonia', 'Fibrosis', 'Edema', '…"
      ]
     },
     "metadata": {},
     "output_type": "display_data"
    },
    {
     "data": {
      "text/plain": [
       "<function __main__.generate_xray(pathology)>"
      ]
     },
     "execution_count": 7,
     "metadata": {},
     "output_type": "execute_result"
    }
   ],
   "source": [
    "infiltration = cv2.imread(os.path.join(SOURCE_IMAGES,'00030209_008.png'))\n",
    "no_finding = cv2.imread(os.path.join(SOURCE_IMAGES,'00000017_001.png'))\n",
    "atelectasis = cv2.imread(os.path.join(SOURCE_IMAGES,'00000030_001.png'))\n",
    "effusion = cv2.imread(os.path.join(SOURCE_IMAGES,'00000061_002.png'))\n",
    "mass = cv2.imread(os.path.join(SOURCE_IMAGES,'00000079_000.png'))\n",
    "consolidation = cv2.imread(os.path.join(SOURCE_IMAGES,'00030636_012.png'))\n",
    "pneumothorax = cv2.imread(os.path.join(SOURCE_IMAGES,'00022668_000.png'))\n",
    "hernia = cv2.imread(os.path.join(SOURCE_IMAGES,'00007352_000.png'))\n",
    "pneumonia = cv2.imread(os.path.join(SOURCE_IMAGES,'00028924_005.png'))\n",
    "fibrosis = cv2.imread(os.path.join(SOURCE_IMAGES,'00004048_012.png'))\n",
    "edema = cv2.imread(os.path.join(SOURCE_IMAGES,'00027782_002.png'))\n",
    "emphysema = cv2.imread(os.path.join(SOURCE_IMAGES,'00029981_002.png'))\n",
    "cardiomegaly = cv2.imread(os.path.join(SOURCE_IMAGES,'00029510_000.png'))\n",
    "pleural_thickening = cv2.imread(os.path.join(SOURCE_IMAGES,'00028505_012.png'))\n",
    "nodule = cv2.imread(os.path.join(SOURCE_IMAGES,'00030301_000.png'))\n",
    "\n",
    "#Peak Active time\n",
    "def check_pathology(pathology):\n",
    "    if pathology=='Infiltration':\n",
    "        return infiltration\n",
    "    elif pathology=='No Finding':\n",
    "        return no_finding\n",
    "    elif pathology=='Atelectasis':\n",
    "        return atelectasis\n",
    "    elif pathology=='Effusion':\n",
    "        return effusion\n",
    "    elif pathology=='Mass':\n",
    "        return mass\n",
    "    elif pathology=='Consolidation':\n",
    "        return consolidation\n",
    "    elif pathology=='Hernia':\n",
    "        return hernia\n",
    "    elif pathology=='Pneumonia':\n",
    "        return pneumonia\n",
    "    elif pathology=='Fibrosis':\n",
    "        return fibrosis\n",
    "    elif pathology=='Edema':\n",
    "        return edema\n",
    "    elif pathology=='Emphysema':\n",
    "        return emphysema\n",
    "    elif pathology=='Cardiomegaly':\n",
    "        return cardiomegaly\n",
    "    elif pathology=='Pleural Thickening':\n",
    "        return pleural_thickening\n",
    "    elif pathology=='Nodule':\n",
    "        return nodule\n",
    "    elif pathology=='Pneumothorax':\n",
    "        return pneumothorax\n",
    "    \n",
    "def generate_xray(pathology):\n",
    "    xray = check_pathology(pathology)\n",
    "    return plt.imshow(xray)\n",
    "interact(generate_xray, pathology=['Hernia', 'Pneumonia', 'Fibrosis', 'Edema', 'Emphysema', 'Cardiomegaly', \n",
    "                              'Pleural Thickening','Consolidation', 'Pneumothorax', 'Mass', 'Nodule', 'Atelectasis', \n",
    "                              'Effusion', 'Infiltration','No Finding'])\n"
   ]
  },
  {
   "cell_type": "code",
   "execution_count": 8,
   "metadata": {},
   "outputs": [],
   "source": [
    "#Cleaning Dataset\n",
    "df = labels\n",
    "single = df[df['Finding Labels'].map(lambda x: \"|\" not in str(x))]\n",
    "multiple = df[df['Finding Labels'].map(lambda x: \"|\" in str(x))]\n",
    "# len(multiple[multiple['Finding Labels']=='Infiltration'])"
   ]
  },
  {
   "cell_type": "markdown",
   "metadata": {},
   "source": [
    "### Single vs. Multiple Pathologies"
   ]
  },
  {
   "cell_type": "code",
   "execution_count": 9,
   "metadata": {},
   "outputs": [
    {
     "data": {
      "text/plain": [
       "<matplotlib.legend.Legend at 0x1a854d5f98>"
      ]
     },
     "execution_count": 9,
     "metadata": {},
     "output_type": "execute_result"
    },
    {
     "data": {
      "image/png": "[encoded data removed]",
      "text/plain": [
       "<Figure size 1080x720 with 1 Axes>"
      ]
     },
     "metadata": {},
     "output_type": "display_data"
    }
   ],
   "source": [
    "def path_count(pathology):\n",
    "    if \"|\" not in pathology:\n",
    "        return 0\n",
    "    else:\n",
    "        return 1\n",
    "\n",
    "def multiple_count(pathology_column):\n",
    "    return pathology_column.map(lambda x: path_count(x))\n",
    "\n",
    "df['Multiple'] = multiple_count(df['Finding Labels'])\n",
    "\n",
    "pathology_list = ['Cardiomegaly','Emphysema','Effusion','Hernia','Nodule','Pneumothorax','Atelectasis',\n",
    "                  'Pleural_Thickening','Mass','Edema','Consolidation','Infiltration','Fibrosis','Pneumonia']\n",
    "for pathology in pathology_list:\n",
    "    df[pathology] = df['Finding Labels'].apply(lambda x: 1 if pathology in x else 0)\n",
    "    \n",
    "data1 = pd.melt(df,\n",
    "             id_vars=['Multiple'],\n",
    "             value_vars = list(pathology_list),\n",
    "             var_name = 'Category',\n",
    "             value_name = 'Count')\n",
    "data1 = data1.loc[data1.Count>0]\n",
    "\n",
    "f, ax = plt.subplots(sharex=True,figsize=(15, 10))\n",
    "p=sns.countplot(y='Category',data=data1, \n",
    "                order = data1['Category'].value_counts().index,ax=ax,color='lightsalmon',label=\"Multiple Pathologies\")\n",
    "p=sns.countplot(y='Finding Labels',data=single, ax=ax, color=\"mediumaquamarine\",label=\"Single Pathology\")\n",
    "ax.set_title('Pathology Distribution')\n",
    "ax.set_ylabel('')\n",
    "ax.set_xlabel('Count')\n",
    "plt.legend(bbox_to_anchor=(1.05, 1), loc=2, borderaxespad=0.)"
   ]
  },
  {
   "cell_type": "markdown",
   "metadata": {},
   "source": [
    "### Single Pathology Distribution by Gender "
   ]
  },
  {
   "cell_type": "code",
   "execution_count": 10,
   "metadata": {},
   "outputs": [
    {
     "name": "stderr",
     "output_type": "stream",
     "text": [
      "/anaconda3/lib/python3.6/site-packages/ipykernel_launcher.py:12: SettingWithCopyWarning: \n",
      "A value is trying to be set on a copy of a slice from a DataFrame.\n",
      "Try using .loc[row_indexer,col_indexer] = value instead\n",
      "\n",
      "See the caveats in the documentation: http://pandas.pydata.org/pandas-docs/stable/indexing.html#indexing-view-versus-copy\n",
      "  if sys.path[0] == '':\n"
     ]
    }
   ],
   "source": [
    "def clean_age(age):\n",
    "    if 'Y' not in age:\n",
    "        age = '0'\n",
    "    else:\n",
    "        age = age\n",
    "    clean_age = ''.join(i for i in age if i.isdigit())\n",
    "    return int(clean_age)\n",
    "\n",
    "def clean_all_ages(age_column):\n",
    "    return age_column.map(lambda x: clean_age(x))\n",
    "\n",
    "single['Patient Age'] = clean_all_ages(single['Patient Age'])\n"
   ]
  },
  {
   "cell_type": "code",
   "execution_count": 11,
   "metadata": {},
   "outputs": [
    {
     "data": {
      "text/plain": [
       "<matplotlib.legend.Legend at 0x1a85484438>"
      ]
     },
     "execution_count": 11,
     "metadata": {},
     "output_type": "execute_result"
    },
    {
     "data": {
      "image/png": "[encoded data removed]",
      "text/plain": [
       "<Figure size 720x720 with 1 Axes>"
      ]
     },
     "metadata": {},
     "output_type": "display_data"
    }
   ],
   "source": [
    "fig, ax = plt.subplots(figsize=(10, 10))\n",
    "ax = sns.countplot(y=\"Finding Labels\", hue=\"Patient Gender\", data=single, palette='seismic')\n",
    "ax.set_title('Pathology Distribution')\n",
    "ax.set_ylabel('')\n",
    "ax.set_xlabel('Count')\n",
    "plt.legend(bbox_to_anchor=(1.05, 1), loc=2, borderaxespad=0.)"
   ]
  },
  {
   "cell_type": "markdown",
   "metadata": {},
   "source": [
    "### Single Pathology Distribution, by Patient Age"
   ]
  },
  {
   "cell_type": "code",
   "execution_count": 12,
   "metadata": {},
   "outputs": [
    {
     "data": {
      "image/png": "[encoded data removed]",
      "text/plain": [
       "<Figure size 720x720 with 1 Axes>"
      ]
     },
     "metadata": {},
     "output_type": "display_data"
    }
   ],
   "source": [
    "f, ax = plt.subplots(figsize=(10, 10))\n",
    "plt.xlim(0, 100)\n",
    "ax = sns.boxplot(y='Finding Labels',x='Patient Age',data=single,palette='winter')"
   ]
  },
  {
   "cell_type": "markdown",
   "metadata": {},
   "source": [
    "## Data Cleaning"
   ]
  },
  {
   "cell_type": "markdown",
   "metadata": {},
   "source": [
    "* Images resized from 1024x1024 to 128x128\n",
    "* Eliminate x-rays with multiple pathologies\n",
    "* Rare diseases grouped together"
   ]
  },
  {
   "cell_type": "markdown",
   "metadata": {},
   "source": [
    "## Labels"
   ]
  },
  {
   "cell_type": "code",
   "execution_count": 13,
   "metadata": {},
   "outputs": [
    {
     "name": "stderr",
     "output_type": "stream",
     "text": [
      "/anaconda3/lib/python3.6/site-packages/ipykernel_launcher.py:4: SettingWithCopyWarning: \n",
      "A value is trying to be set on a copy of a slice from a DataFrame.\n",
      "Try using .loc[row_indexer,col_indexer] = value instead\n",
      "\n",
      "See the caveats in the documentation: http://pandas.pydata.org/pandas-docs/stable/indexing.html#indexing-view-versus-copy\n",
      "  after removing the cwd from sys.path.\n"
     ]
    },
    {
     "data": {
      "text/plain": [
       "Text(0.5,1,'Pathology Distribution')"
      ]
     },
     "execution_count": 13,
     "metadata": {},
     "output_type": "execute_result"
    },
    {
     "data": {
      "image/png": "[encoded data removed]",
      "text/plain": [
       "<Figure size 720x720 with 1 Axes>"
      ]
     },
     "metadata": {},
     "output_type": "display_data"
    }
   ],
   "source": [
    "clean_df = single\n",
    "RareClass = [\"Edema\", \"Emphysema\", \"Fibrosis\", \"Pneumonia\", \"Pleural_Thickening\", \"Cardiomegaly\",\"Hernia\"] #7\n",
    "\n",
    "clean_df['Finding Labels'] = clean_df['Finding Labels'].apply(lambda x: 'Rare Diseases' if x in RareClass else x)\n",
    "\n",
    "fig, ax = plt.subplots(figsize=(10, 10))\n",
    "ax = sns.countplot(y=\"Finding Labels\", data=clean_df, palette='rainbow')\n",
    "ax.set_ylabel('')\n",
    "ax.set_xlabel('Count')\n",
    "ax.set_title('Pathology Distribution')"
   ]
  },
  {
   "cell_type": "code",
   "execution_count": 15,
   "metadata": {},
   "outputs": [
    {
     "data": {
      "text/plain": [
       "3044"
      ]
     },
     "execution_count": 15,
     "metadata": {},
     "output_type": "execute_result"
    }
   ],
   "source": [
    "test = clean_df[clean_df['Finding Labels']=='No Finding']\n",
    "len(test)"
   ]
  },
  {
   "cell_type": "markdown",
   "metadata": {},
   "source": [
    "## Class Imbalance Solutions"
   ]
  },
  {
   "cell_type": "markdown",
   "metadata": {},
   "source": [
    "#### Class Weights"
   ]
  },
  {
   "cell_type": "markdown",
   "metadata": {},
   "source": [
    "* Class weights were passed into model.fit()"
   ]
  },
  {
   "cell_type": "code",
   "execution_count": 14,
   "metadata": {},
   "outputs": [
    {
     "data": {
      "text/plain": [
       "{0: 0.1858984888304862,\n",
       " 1: 7.859375,\n",
       " 2: 1.125,\n",
       " 3: 4.963815789473684,\n",
       " 4: 2.7875615763546797,\n",
       " 5: 3.9296875,\n",
       " 6: 2.947265625,\n",
       " 7: 2.2191176470588236}"
      ]
     },
     "execution_count": 14,
     "metadata": {},
     "output_type": "execute_result"
    }
   ],
   "source": [
    "class_weights = class_weight.compute_class_weight('balanced', np.unique(y), y)\n",
    "class_weights = dict(enumerate(class_weights))\n",
    "class_weights"
   ]
  },
  {
   "cell_type": "markdown",
   "metadata": {},
   "source": [
    "#### Random Over-Sampling\n",
    "* Randomly oversampled data to increase sample size\n",
    "\n",
    "#### Data Augmentation\n",
    "* Horizontally flipped images and rotated by 30 degrees to add more images to sample"
   ]
  },
  {
   "cell_type": "markdown",
   "metadata": {},
   "source": [
    "## Hyperparameters"
   ]
  },
  {
   "cell_type": "code",
   "execution_count": 15,
   "metadata": {},
   "outputs": [],
   "source": [
    "epochs=5\n",
    "optimizer=optimizers.Adam(lr=0.000001, beta_1=0.9, beta_2=0.999, epsilon=1e-08, decay=0.0000001)\n",
    "batch_size=32\n",
    "loss='categorical_crossentropy'\n",
    "activation='relu'\n",
    "out_activation='softmax'"
   ]
  },
  {
   "cell_type": "markdown",
   "metadata": {},
   "source": [
    "* Optimizer: Adam (learning rate: 0.000001, decay=0.0000001)\n",
    "* Batch Size = 32 \n",
    "* Loss = Categorical Cross-Entropy\n",
    "* Activation = relu\n",
    "* Output Activation = Softmax"
   ]
  },
  {
   "cell_type": "markdown",
   "metadata": {},
   "source": [
    "## Multilayer Perceptron"
   ]
  },
  {
   "cell_type": "markdown",
   "metadata": {},
   "source": [
    "### Balanced Class Weights"
   ]
  },
  {
   "cell_type": "markdown",
   "metadata": {},
   "source": [
    "#### Architecture"
   ]
  },
  {
   "cell_type": "code",
   "execution_count": 16,
   "metadata": {},
   "outputs": [
    {
     "name": "stdout",
     "output_type": "stream",
     "text": [
      "_________________________________________________________________\n",
      "Layer (type)                 Output Shape              Param #   \n",
      "=================================================================\n",
      "dense_1 (Dense)              (None, 150)               7372950   \n",
      "_________________________________________________________________\n",
      "dropout_1 (Dropout)          (None, 150)               0         \n",
      "_________________________________________________________________\n",
      "dense_2 (Dense)              (None, 125)               18875     \n",
      "_________________________________________________________________\n",
      "dropout_2 (Dropout)          (None, 125)               0         \n",
      "_________________________________________________________________\n",
      "dense_3 (Dense)              (None, 100)               12600     \n",
      "_________________________________________________________________\n",
      "dropout_3 (Dropout)          (None, 100)               0         \n",
      "_________________________________________________________________\n",
      "dense_4 (Dense)              (None, 75)                7575      \n",
      "_________________________________________________________________\n",
      "dropout_4 (Dropout)          (None, 75)                0         \n",
      "_________________________________________________________________\n",
      "dense_5 (Dense)              (None, 50)                3800      \n",
      "_________________________________________________________________\n",
      "dropout_5 (Dropout)          (None, 50)                0         \n",
      "_________________________________________________________________\n",
      "dense_6 (Dense)              (None, 8)                 408       \n",
      "=================================================================\n",
      "Total params: 7,416,208\n",
      "Trainable params: 7,416,208\n",
      "Non-trainable params: 0\n",
      "_________________________________________________________________\n"
     ]
    }
   ],
   "source": [
    "#architecture and hyperparameters\n",
    "balanced_mlp_model.summary()"
   ]
  },
  {
   "cell_type": "markdown",
   "metadata": {},
   "source": [
    "![Balanced Accuracy Diagram](balanced_mlp.png \"Balanced MLP Accuracy\")"
   ]
  },
  {
   "cell_type": "markdown",
   "metadata": {},
   "source": [
    "### Random Oversampling"
   ]
  },
  {
   "cell_type": "markdown",
   "metadata": {},
   "source": [
    "#### Architecture"
   ]
  },
  {
   "cell_type": "code",
   "execution_count": 17,
   "metadata": {},
   "outputs": [
    {
     "name": "stdout",
     "output_type": "stream",
     "text": [
      "_________________________________________________________________\n",
      "Layer (type)                 Output Shape              Param #   \n",
      "=================================================================\n",
      "dense_7 (Dense)              (None, 100)               4915300   \n",
      "_________________________________________________________________\n",
      "dropout_6 (Dropout)          (None, 100)               0         \n",
      "_________________________________________________________________\n",
      "dense_8 (Dense)              (None, 25)                2525      \n",
      "_________________________________________________________________\n",
      "dropout_7 (Dropout)          (None, 25)                0         \n",
      "_________________________________________________________________\n",
      "dense_9 (Dense)              (None, 25)                650       \n",
      "_________________________________________________________________\n",
      "dropout_8 (Dropout)          (None, 25)                0         \n",
      "_________________________________________________________________\n",
      "dense_10 (Dense)             (None, 25)                650       \n",
      "_________________________________________________________________\n",
      "dropout_9 (Dropout)          (None, 25)                0         \n",
      "_________________________________________________________________\n",
      "dense_11 (Dense)             (None, 75)                1950      \n",
      "_________________________________________________________________\n",
      "dropout_10 (Dropout)         (None, 75)                0         \n",
      "_________________________________________________________________\n",
      "dense_12 (Dense)             (None, 10)                760       \n",
      "_________________________________________________________________\n",
      "dropout_11 (Dropout)         (None, 10)                0         \n",
      "_________________________________________________________________\n",
      "dense_13 (Dense)             (None, 8)                 88        \n",
      "=================================================================\n",
      "Total params: 4,921,923\n",
      "Trainable params: 4,921,923\n",
      "Non-trainable params: 0\n",
      "_________________________________________________________________\n"
     ]
    }
   ],
   "source": [
    "ros_mlp_model.summary()"
   ]
  },
  {
   "cell_type": "markdown",
   "metadata": {},
   "source": [
    "![ROS Accuracy Diagram](ros_mlp.png \"ROS MLP Accuracy\")"
   ]
  },
  {
   "cell_type": "markdown",
   "metadata": {},
   "source": [
    "## Convolutional Neural Networks"
   ]
  },
  {
   "cell_type": "markdown",
   "metadata": {},
   "source": [
    "#### Architecture "
   ]
  },
  {
   "cell_type": "code",
   "execution_count": 18,
   "metadata": {},
   "outputs": [
    {
     "name": "stdout",
     "output_type": "stream",
     "text": [
      "_________________________________________________________________\n",
      "Layer (type)                 Output Shape              Param #   \n",
      "=================================================================\n",
      "conv2d_23 (Conv2D)           (None, 126, 126, 32)      896       \n",
      "_________________________________________________________________\n",
      "max_pooling2d_22 (MaxPooling (None, 63, 63, 32)        0         \n",
      "_________________________________________________________________\n",
      "conv2d_24 (Conv2D)           (None, 61, 61, 64)        18496     \n",
      "_________________________________________________________________\n",
      "max_pooling2d_23 (MaxPooling (None, 30, 30, 64)        0         \n",
      "_________________________________________________________________\n",
      "conv2d_25 (Conv2D)           (None, 28, 28, 128)       73856     \n",
      "_________________________________________________________________\n",
      "max_pooling2d_24 (MaxPooling (None, 14, 14, 128)       0         \n",
      "_________________________________________________________________\n",
      "flatten_9 (Flatten)          (None, 25088)             0         \n",
      "_________________________________________________________________\n",
      "dropout_3 (Dropout)          (None, 25088)             0         \n",
      "_________________________________________________________________\n",
      "dense_35 (Dense)             (None, 64)                1605696   \n",
      "_________________________________________________________________\n",
      "dropout_4 (Dropout)          (None, 64)                0         \n",
      "_________________________________________________________________\n",
      "dense_36 (Dense)             (None, 8)                 520       \n",
      "=================================================================\n",
      "Total params: 1,699,464\n",
      "Trainable params: 1,699,464\n",
      "Non-trainable params: 0\n",
      "_________________________________________________________________\n"
     ]
    }
   ],
   "source": [
    "ros_cnn_model.summary()"
   ]
  },
  {
   "cell_type": "markdown",
   "metadata": {},
   "source": [
    "![ROS Accuracy Diagram](ros_cnn.png \"ROS MLP Accuracy\")"
   ]
  },
  {
   "cell_type": "markdown",
   "metadata": {},
   "source": [
    "## Conclusions"
   ]
  },
  {
   "cell_type": "markdown",
   "metadata": {},
   "source": [
    "### Limitations "
   ]
  },
  {
   "cell_type": "markdown",
   "metadata": {},
   "source": [
    "#### Label Accuracy \n",
    "*Source: https://lukeoakdenrayner.wordpress.com/2017/12/18/the-chestxray14-dataset-problems/*\n",
    "* Labels were produced, using text mining (from clinical reports connected with the images)\n",
    "* Cross-validation of labels based on two annotators who looked at the reports (but not the images)\n",
    "* Based on this process, label accuracy was >90%\n",
    "* Actual label accuracy, based on the images alone (radiologist-labeled), was much lower"
   ]
  },
  {
   "cell_type": "markdown",
   "metadata": {},
   "source": [
    "![Label Accuracy Diagram](label_accuracy.png \"Label Accuracy\")"
   ]
  },
  {
   "cell_type": "markdown",
   "metadata": {},
   "source": [
    "![False Atelectasis Diagram](false_atelectasis.png \"Label Accuracy\")"
   ]
  },
  {
   "cell_type": "markdown",
   "metadata": {},
   "source": [
    "### Treated Pneumothorax"
   ]
  },
  {
   "cell_type": "markdown",
   "metadata": {},
   "source": [
    "![Label Accuracy Diagram](treated_pneumothorax.png \"Label Accuracy\")"
   ]
  },
  {
   "cell_type": "markdown",
   "metadata": {},
   "source": [
    "### With a pre-trained model"
   ]
  },
  {
   "cell_type": "markdown",
   "metadata": {},
   "source": [
    "**True Positives**"
   ]
  },
  {
   "cell_type": "markdown",
   "metadata": {},
   "source": [
    "![Label Accuracy Diagram](true_pos.png \"Label Accuracy\")"
   ]
  },
  {
   "cell_type": "markdown",
   "metadata": {},
   "source": [
    "**False Negatives**"
   ]
  },
  {
   "cell_type": "markdown",
   "metadata": {},
   "source": [
    "![Label Accuracy Diagram](false_neg.png \"Label Accuracy\")"
   ]
  },
  {
   "cell_type": "markdown",
   "metadata": {},
   "source": [
    "* Data flawed, with internally inconsistent labels \n",
    "* Models only trained to fit on these images so they're essentially fitting on noise -- any predictions would be nonsensical\n",
    "* Because data is flawed with lots of noise, we had many issues with validation loss and accuracy in spite of hyperparameter tuning (this persisted even with binary classification -- disease Y/N)"
   ]
  },
  {
   "cell_type": "markdown",
   "metadata": {},
   "source": [
    "## Next Steps"
   ]
  },
  {
   "cell_type": "markdown",
   "metadata": {},
   "source": [
    "* ALWAYS CHECK DATA QUALITY\n",
    "* Work with better datasets\n",
    "* Include other parameters (patient age, gender)"
   ]
  },
  {
   "cell_type": "markdown",
   "metadata": {},
   "source": [
    "## Random Image Generator"
   ]
  },
  {
   "cell_type": "code",
   "execution_count": 19,
   "metadata": {},
   "outputs": [
    {
     "data": {
      "application/vnd.jupyter.widget-view+json": {
       "model_id": "ddde994e9b1d4c54a26942ce71d84d61",
       "version_major": 2,
       "version_minor": 0
      },
      "text/plain": [
       "VBox(children=(Output(), Button(description='Generate X-Ray!', style=ButtonStyle())))"
      ]
     },
     "metadata": {},
     "output_type": "display_data"
    }
   ],
   "source": [
    "# produce random image, prediction, and actual label \n",
    "\n",
    "def pathology_label(val):\n",
    "    pathology_dict = {0: 'No Finding', 1: 'Consolidation', 2: 'Infiltration', 3: 'Pneumothorax', \n",
    "                      4:'Effusion', 5: 'Nodule Mass', 6: 'Atelectasis', 7: \"Other Rare Classes\"}\n",
    "    return [v for k, v in pathology_dict.items() if k==val][0]\n",
    "\n",
    "def make_prediction():\n",
    "    rand_image = single.sample(1)\n",
    "    img_index = rand_image['Image Index'].tolist()[0]\n",
    "    img = cv2.imread(os.path.join(SOURCE_IMAGES, img_index))\n",
    "    img_pathology = rand_image['Finding Labels'].tolist()[0]\n",
    "    img = cv2.resize(img, (128,128), interpolation=cv2.INTER_CUBIC)\n",
    "    test_img = img_to_array(img)\n",
    "    test_img = test_img.reshape(-1).astype('float32')\n",
    "    test_img = np.expand_dims(test_img, axis = 0)\n",
    "    y_prob = ros_mlp_model.predict(test_img)\n",
    "    y_classes = y_prob.argmax(axis=-1)[0]\n",
    "    prediction = pathology_label(y_classes)\n",
    "    print(\"Randomly generated image is labeled as: \" + img_pathology + \n",
    "          \". The model has predicted the pathology to be: \" + prediction + \".\")\n",
    "    return img\n",
    "    \n",
    "out=widgets.Output()\n",
    "button=widgets.Button(description='Generate X-Ray!')\n",
    "vbox=widgets.VBox(children=(out,button))\n",
    "display(vbox)\n",
    "\n",
    "def on_button_clicked(b):\n",
    "    with out:\n",
    "        clear_output(wait=True)\n",
    "        img = make_prediction()\n",
    "        plt.imshow(img)\n",
    "        show_inline_matplotlib_plots()\n",
    "\n",
    "button.on_click(on_button_clicked)"
   ]
  }
 ],
 "metadata": {
  "kernelspec": {
   "display_name": "Python 3",
   "language": "python",
   "name": "python3"
  },
  "language_info": {
   "codemirror_mode": {
    "name": "ipython",
    "version": 3
   },
   "file_extension": ".py",
   "mimetype": "text/x-python",
   "name": "python",
   "nbconvert_exporter": "python",
   "pygments_lexer": "ipython3",
   "version": "3.6.5"
  }
 },
 "nbformat": 4,
 "nbformat_minor": 2
}
