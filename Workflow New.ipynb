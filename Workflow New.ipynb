{
 "cells": [
  {
   "cell_type": "code",
   "execution_count": 28,
   "metadata": {},
   "outputs": [],
   "source": [
    "import numpy as np\n",
    "np.random.seed(1337)\n",
    "import pandas as pd\n",
    "import keras\n",
    "from keras.models import Sequential\n",
    "from keras import initializers\n",
    "from keras.layers import Dense, Conv2D, MaxPooling2D, Flatten, Dropout\n",
    "import matplotlib.pylab as plt\n",
    "%matplotlib inline\n",
    "from sklearn.model_selection import cross_val_score\n",
    "from sklearn.model_selection import KFold\n",
    "from sklearn.preprocessing import StandardScaler\n",
    "from sklearn.pipeline import Pipeline\n",
    "from sklearn import preprocessing\n",
    "from keras.preprocessing.image import ImageDataGenerator\n",
    "from keras import optimizers\n",
    "from sklearn.model_selection import train_test_split\n",
    "import cv2\n",
    "import os\n",
    "import random\n",
    "from glob import glob\n",
    "import seaborn as sns\n",
    "from sklearn.utils import class_weight\n",
    "from keras import regularizers\n",
    "from imblearn.over_sampling import RandomOverSampler"
   ]
  },
  {
   "cell_type": "markdown",
   "metadata": {},
   "source": [
    "## Setup (Data Preparation)"
   ]
  },
  {
   "cell_type": "code",
   "execution_count": 29,
   "metadata": {},
   "outputs": [],
   "source": [
    "# Load npz file containing image arrays\n",
    "x_npz = np.load(\"x_images_arrays.npz\")\n",
    "x = x_npz['arr_0']\n",
    "# Load disease labels\n",
    "y_npz = np.load(\"y_disease_labels.npz\")\n",
    "y = y_npz['arr_0']"
   ]
  },
  {
   "cell_type": "code",
   "execution_count": 49,
   "metadata": {},
   "outputs": [],
   "source": [
    "X_train, X_test, y_train, y_test = train_test_split(x,y, test_size=0.3)"
   ]
  },
  {
   "cell_type": "code",
   "execution_count": 50,
   "metadata": {},
   "outputs": [
    {
     "name": "stdout",
     "output_type": "stream",
     "text": [
      "(3168, 128, 128, 3)\n",
      "(1359, 128, 128, 3)\n",
      "(3168,)\n",
      "(1359,)\n"
     ]
    }
   ],
   "source": [
    "print(X_train.shape)\n",
    "print(X_test.shape)\n",
    "print(y_train.shape)\n",
    "print(y_test.shape)"
   ]
  },
  {
   "cell_type": "code",
   "execution_count": 51,
   "metadata": {},
   "outputs": [],
   "source": [
    "X_train_reshape = X_train.reshape(X_train.shape[0], -1).astype('float32')\n",
    "X_test_reshape = X_test.reshape(X_test.shape[0], -1).astype('float32')"
   ]
  },
  {
   "cell_type": "code",
   "execution_count": 33,
   "metadata": {},
   "outputs": [],
   "source": [
    "#one-hot encode y_train & y_test\n",
    "y_trainHot = keras.utils.to_categorical(y_train, 8)\n",
    "y_testHot = keras.utils.to_categorical(y_test, 8)"
   ]
  },
  {
   "cell_type": "code",
   "execution_count": 34,
   "metadata": {},
   "outputs": [],
   "source": [
    "epochs=5\n",
    "optimizer = optimizers.Adam(lr=0.03, decay=0.0001)\n",
    "# optimizer= adam\n",
    "batch_size=100\n",
    "loss='categorical_crossentropy'\n",
    "activation='relu'\n",
    "out_activation='softmax'"
   ]
  },
  {
   "cell_type": "code",
   "execution_count": 35,
   "metadata": {},
   "outputs": [],
   "source": [
    "tbcallback = keras.callbacks.TensorBoard(log_dir='./logs', histogram_freq=0, batch_size=32, \n",
    "                                         write_graph=True, write_images=True)"
   ]
  },
  {
   "cell_type": "markdown",
   "metadata": {},
   "source": [
    "## Balanced Class Weights"
   ]
  },
  {
   "cell_type": "code",
   "execution_count": 36,
   "metadata": {},
   "outputs": [
    {
     "data": {
      "text/plain": [
       "{0: 0.1858984888304862,\n",
       " 1: 7.859375,\n",
       " 2: 1.125,\n",
       " 3: 4.963815789473684,\n",
       " 4: 2.7875615763546797,\n",
       " 5: 3.9296875,\n",
       " 6: 2.947265625,\n",
       " 7: 2.2191176470588236}"
      ]
     },
     "execution_count": 36,
     "metadata": {},
     "output_type": "execute_result"
    }
   ],
   "source": [
    "class_weights = class_weight.compute_class_weight('balanced', np.unique(y), y)\n",
    "class_weights = dict(enumerate(class_weights))\n",
    "class_weights"
   ]
  },
  {
   "cell_type": "code",
   "execution_count": 38,
   "metadata": {},
   "outputs": [
    {
     "name": "stdout",
     "output_type": "stream",
     "text": [
      "Train on 3168 samples, validate on 1359 samples\n",
      "Epoch 1/5\n",
      "3168/3168 [==============================] - 49s 16ms/step - loss: 14.0164 - acc: 0.4804 - val_loss: 5.1236 - val_acc: 0.6821\n",
      "Epoch 2/5\n",
      "3168/3168 [==============================] - 49s 15ms/step - loss: 14.2500 - acc: 0.5417 - val_loss: 5.1236 - val_acc: 0.6821\n",
      "Epoch 3/5\n",
      "3168/3168 [==============================] - 50s 16ms/step - loss: 14.2202 - acc: 0.5521 - val_loss: 5.1236 - val_acc: 0.6821\n",
      "Epoch 4/5\n",
      "3168/3168 [==============================] - 49s 16ms/step - loss: 14.1570 - acc: 0.5524 - val_loss: 5.1236 - val_acc: 0.6821\n",
      "Epoch 5/5\n",
      "3168/3168 [==============================] - 49s 16ms/step - loss: 14.2129 - acc: 0.5518 - val_loss: 5.1236 - val_acc: 0.6821\n"
     ]
    }
   ],
   "source": [
    "model = Sequential()\n",
    "model.add(Dense(100, input_dim=49152, activation=activation))\n",
    "model.add(Dropout(0.3))\n",
    "model.add(Dense(75, activation=activation))\n",
    "model.add(Dropout(0.3))\n",
    "model.add(Dense(25, activation=activation))\n",
    "model.add(Dropout(0.3))\n",
    "model.add(Dense(25, activation=activation))\n",
    "model.add(Dropout(0.3))\n",
    "model.add(Dense(10, activation=activation))\n",
    "model.add(Dropout(0.3))\n",
    "model.add(Dense(8, activation=out_activation))\n",
    "model.compile(loss=loss, optimizer=optimizer, metrics=['accuracy']) \n",
    "history = model.fit(X_train_reshape, y_trainHot, epochs=epochs, batch_size=batch_size, \n",
    "                    class_weight = class_weights, verbose=1, \n",
    "                    validation_data=[X_test_reshape, y_testHot], callbacks=[tbcallback])"
   ]
  },
  {
   "cell_type": "code",
   "execution_count": 39,
   "metadata": {},
   "outputs": [
    {
     "name": "stdout",
     "output_type": "stream",
     "text": [
      "Train on 3168 samples, validate on 1359 samples\n",
      "Epoch 1/5\n",
      "3168/3168 [==============================] - 85s 27ms/step - loss: 14.4202 - acc: 0.6572 - val_loss: 5.1236 - val_acc: 0.6821\n",
      "Epoch 2/5\n",
      "3168/3168 [==============================] - 92s 29ms/step - loss: 14.4183 - acc: 0.6682 - val_loss: 5.1236 - val_acc: 0.6821\n",
      "Epoch 3/5\n",
      "3168/3168 [==============================] - 84s 27ms/step - loss: 14.4183 - acc: 0.6682 - val_loss: 5.1236 - val_acc: 0.6821\n",
      "Epoch 4/5\n",
      "3168/3168 [==============================] - 83s 26ms/step - loss: 14.4183 - acc: 0.6682 - val_loss: 5.1236 - val_acc: 0.6821\n",
      "Epoch 5/5\n",
      "3168/3168 [==============================] - 81s 26ms/step - loss: 14.4183 - acc: 0.6682 - val_loss: 5.1236 - val_acc: 0.6821\n"
     ]
    }
   ],
   "source": [
    "model = Sequential()\n",
    "model.add(Dense(150, input_dim=49152, activation=activation))\n",
    "model.add(Dropout(0.3))\n",
    "model.add(Dense(125, activation=activation))\n",
    "model.add(Dropout(0.3))\n",
    "model.add(Dense(100, activation=activation))\n",
    "model.add(Dropout(0.3))\n",
    "model.add(Dense(75, activation=activation))\n",
    "model.add(Dropout(0.3))\n",
    "model.add(Dense(50, activation=activation))\n",
    "model.add(Dropout(0.3))\n",
    "model.add(Dense(8, activation=out_activation))\n",
    "model.compile(loss=loss, optimizer=optimizer, metrics=['accuracy']) \n",
    "history = model.fit(X_train_reshape, y_trainHot, epochs=epochs, batch_size=batch_size, \n",
    "                    class_weight = class_weights, verbose=1, \n",
    "                    validation_data=[X_test_reshape, y_testHot], callbacks=[tbcallback])"
   ]
  },
  {
   "cell_type": "code",
   "execution_count": 40,
   "metadata": {},
   "outputs": [],
   "source": [
    "model.save_weights('my_model_weights.h5')"
   ]
  },
  {
   "cell_type": "markdown",
   "metadata": {},
   "source": [
    "## Random Oversampling"
   ]
  },
  {
   "cell_type": "code",
   "execution_count": 52,
   "metadata": {},
   "outputs": [],
   "source": [
    "ros = RandomOverSampler(ratio='auto')\n",
    "X_trainRos, y_trainRos = ros.fit_sample(X_train_reshape, y_train)\n",
    "X_testRos, y_testRos = ros.fit_sample(X_test_reshape, y_test)\n",
    "\n",
    "y_trainRosHot = keras.utils.to_categorical(y_trainRos, num_classes = 8)\n",
    "y_testRosHot = keras.utils.to_categorical(y_testRos, num_classes = 8)"
   ]
  },
  {
   "cell_type": "code",
   "execution_count": 53,
   "metadata": {},
   "outputs": [
    {
     "name": "stdout",
     "output_type": "stream",
     "text": [
      "X_train:  (3168, 128, 128, 3)\n",
      "X_trainFlat:  (3168, 49152)\n",
      "X_trainRos Shape:  (17160, 49152)\n",
      "X_testRos Shape:  (7192, 49152)\n",
      "Y_trainRosHot Shape:  (17160, 8)\n",
      "Y_testRosHot Shape:  (7192, 8)\n"
     ]
    }
   ],
   "source": [
    "print(\"X_train: \", X_train.shape)\n",
    "print(\"X_trainFlat: \", X_train_reshape.shape)\n",
    "print(\"X_trainRos Shape: \",X_trainRos.shape)\n",
    "print(\"X_testRos Shape: \",X_testRos.shape)\n",
    "print(\"Y_trainRosHot Shape: \",y_trainRosHot.shape)\n",
    "print(\"Y_testRosHot Shape: \",y_testRosHot.shape)"
   ]
  },
  {
   "cell_type": "code",
   "execution_count": null,
   "metadata": {},
   "outputs": [
    {
     "name": "stdout",
     "output_type": "stream",
     "text": [
      "Train on 17160 samples, validate on 7192 samples\n",
      "Epoch 1/15\n",
      "17160/17160 [==============================] - 331s 19ms/step - loss: 13.2533 - acc: 0.1248 - val_loss: 14.1437 - val_acc: 0.1225\n",
      "Epoch 2/15\n",
      "17160/17160 [==============================] - 313s 18ms/step - loss: 13.3436 - acc: 0.1218 - val_loss: 14.1437 - val_acc: 0.1225\n",
      "Epoch 3/15\n",
      "17160/17160 [==============================] - 334s 19ms/step - loss: 13.2771 - acc: 0.1234 - val_loss: 14.1437 - val_acc: 0.1225\n",
      "Epoch 4/15\n",
      "17160/17160 [==============================] - 312s 18ms/step - loss: 13.3538 - acc: 0.1230 - val_loss: 14.1437 - val_acc: 0.1225\n",
      "Epoch 5/15\n",
      "17160/17160 [==============================] - 295s 17ms/step - loss: 13.2440 - acc: 0.1269 - val_loss: 14.1437 - val_acc: 0.1225\n",
      "Epoch 6/15\n",
      "17160/17160 [==============================] - 293s 17ms/step - loss: 13.2613 - acc: 0.1244 - val_loss: 14.1437 - val_acc: 0.1225\n",
      "Epoch 7/15\n",
      "17160/17160 [==============================] - 304s 18ms/step - loss: 13.3041 - acc: 0.1248 - val_loss: 14.1437 - val_acc: 0.1225\n",
      "Epoch 8/15\n",
      "17160/17160 [==============================] - 316s 18ms/step - loss: 13.2374 - acc: 0.1277 - val_loss: 14.1437 - val_acc: 0.1225\n",
      "Epoch 9/15\n",
      "17160/17160 [==============================] - 333s 19ms/step - loss: 13.2966 - acc: 0.1247 - val_loss: 14.1437 - val_acc: 0.1225\n",
      "Epoch 10/15\n",
      "17160/17160 [==============================] - 340s 20ms/step - loss: 13.3273 - acc: 0.1210 - val_loss: 14.1437 - val_acc: 0.1225\n",
      "Epoch 11/15\n",
      "17160/17160 [==============================] - 331s 19ms/step - loss: 13.2739 - acc: 0.1258 - val_loss: 14.1437 - val_acc: 0.1225\n",
      "Epoch 12/15\n",
      "17100/17160 [============================>.] - ETA: 0s - loss: 13.2955 - acc: 0.1230"
     ]
    }
   ],
   "source": [
    "model = Sequential()\n",
    "model.add(Dense(100, input_dim=49152, activation=activation))\n",
    "model.add(Dropout(0.3))\n",
    "model.add(Dense(25, activation=activation))\n",
    "model.add(Dropout(0.3))\n",
    "model.add(Dense(25, activation=activation))\n",
    "model.add(Dropout(0.3))\n",
    "model.add(Dense(25, activation=activation))\n",
    "model.add(Dropout(0.3))\n",
    "model.add(Dense(75, activation=activation))\n",
    "model.add(Dropout(0.3))\n",
    "model.add(Dense(10, activation=activation))\n",
    "model.add(Dropout(0.3))\n",
    "model.add(Dense(8, activation=out_activation))\n",
    "model.compile(loss=loss, optimizer=optimizer, metrics=['accuracy']) \n",
    "history = model.fit(X_trainRos, y_trainRosHot, epochs=15, batch_size=batch_size, verbose=1, \n",
    "                    validation_data=(X_testRos, y_testRosHot), callbacks=[tbcallback])"
   ]
  },
  {
   "cell_type": "code",
   "execution_count": null,
   "metadata": {},
   "outputs": [],
   "source": []
  }
 ],
 "metadata": {
  "kernelspec": {
   "display_name": "Python 3",
   "language": "python",
   "name": "python3"
  },
  "language_info": {
   "codemirror_mode": {
    "name": "ipython",
    "version": 3
   },
   "file_extension": ".py",
   "mimetype": "text/x-python",
   "name": "python",
   "nbconvert_exporter": "python",
   "pygments_lexer": "ipython3",
   "version": "3.6.5"
  }
 },
 "nbformat": 4,
 "nbformat_minor": 2
}
