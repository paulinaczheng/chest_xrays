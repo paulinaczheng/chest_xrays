{
 "cells": [
  {
   "cell_type": "markdown",
   "metadata": {},
   "source": [
    "# Identifying Pathology in Chest X-Rays with Deep Learning"
   ]
  },
  {
   "cell_type": "markdown",
   "metadata": {},
   "source": [
    "## Business Justification"
   ]
  },
  {
   "cell_type": "markdown",
   "metadata": {},
   "source": [
    "* Improve medical diagnostic technology"
   ]
  },
  {
   "cell_type": "code",
   "execution_count": 6,
   "metadata": {},
   "outputs": [
    {
     "data": {
      "text/html": [
       "<style id=hide>div.input{display:none;}</style><button type=\"button\"onclick=\"var myStyle = document.getElementById('hide').sheet;myStyle.insertRule('div.input{display:inherit !important;}', 0);\">Show inputs</button>"
      ],
      "text/plain": [
       "<IPython.core.display.HTML object>"
      ]
     },
     "metadata": {},
     "output_type": "display_data"
    }
   ],
   "source": [
    "from IPython.core.display import display, HTML\n",
    "display(HTML(r\"\"\"<style id=hide>div.input{display:none;}</style><button type=\"button\"onclick=\"var myStyle = document.getElementById('hide').sheet;myStyle.insertRule('div.input{display:inherit !important;}', 0);\">Show inputs</button>\"\"\"))"
   ]
  },
  {
   "cell_type": "code",
   "execution_count": 24,
   "metadata": {},
   "outputs": [],
   "source": [
    "#import pickle files, dataframe here here\n",
    "import cv2\n",
    "import os\n",
    "import random\n",
    "from glob import glob\n",
    "import pandas as pd\n",
    "import seaborn as sns\n",
    "import matplotlib.pylab as plt\n",
    "%matplotlib inline\n",
    "from ipywidgets import widgets,interact, interactive, fixed, interact_manual\n",
    "import numpy as np\n",
    "import keras \n",
    "from keras.preprocessing.image import img_to_array\n",
    "from keras.models import model_from_json\n",
    "from sklearn.metrics import confusion_matrix\n",
    "from ipywidgets import widgets,interact, interactive, fixed, interact_manual\n",
    "from IPython.display import display, clear_output, Markdown, Image\n",
    "from ipywidgets.widgets.interaction import show_inline_matplotlib_plots"
   ]
  },
  {
   "cell_type": "code",
   "execution_count": 8,
   "metadata": {},
   "outputs": [
    {
     "ename": "FileNotFoundError",
     "evalue": "[Errno 2] No such file or directory: 'mlp.pickle'",
     "output_type": "error",
     "traceback": [
      "\u001b[0;31m---------------------------------------------------------------------------\u001b[0m",
      "\u001b[0;31mFileNotFoundError\u001b[0m                         Traceback (most recent call last)",
      "\u001b[0;32m<ipython-input-8-63c6f285d0cb>\u001b[0m in \u001b[0;36m<module>\u001b[0;34m()\u001b[0m\n\u001b[0;32m----> 1\u001b[0;31m \u001b[0mmlp\u001b[0m \u001b[0;34m=\u001b[0m \u001b[0mjoblib\u001b[0m\u001b[0;34m.\u001b[0m\u001b[0mload\u001b[0m\u001b[0;34m(\u001b[0m\u001b[0;34m'mlp.pickle'\u001b[0m\u001b[0;34m)\u001b[0m\u001b[0;34m\u001b[0m\u001b[0m\n\u001b[0m\u001b[1;32m      2\u001b[0m \u001b[0mcnn\u001b[0m \u001b[0;34m=\u001b[0m \u001b[0mjoblib\u001b[0m\u001b[0;34m.\u001b[0m\u001b[0mload\u001b[0m\u001b[0;34m(\u001b[0m\u001b[0;34m'cnn.pickle'\u001b[0m\u001b[0;34m)\u001b[0m\u001b[0;34m\u001b[0m\u001b[0m\n",
      "\u001b[0;32m/anaconda3/lib/python3.6/site-packages/sklearn/externals/joblib/numpy_pickle.py\u001b[0m in \u001b[0;36mload\u001b[0;34m(filename, mmap_mode)\u001b[0m\n\u001b[1;32m    568\u001b[0m             \u001b[0mobj\u001b[0m \u001b[0;34m=\u001b[0m \u001b[0m_unpickle\u001b[0m\u001b[0;34m(\u001b[0m\u001b[0mfobj\u001b[0m\u001b[0;34m)\u001b[0m\u001b[0;34m\u001b[0m\u001b[0m\n\u001b[1;32m    569\u001b[0m     \u001b[0;32melse\u001b[0m\u001b[0;34m:\u001b[0m\u001b[0;34m\u001b[0m\u001b[0m\n\u001b[0;32m--> 570\u001b[0;31m         \u001b[0;32mwith\u001b[0m \u001b[0mopen\u001b[0m\u001b[0;34m(\u001b[0m\u001b[0mfilename\u001b[0m\u001b[0;34m,\u001b[0m \u001b[0;34m'rb'\u001b[0m\u001b[0;34m)\u001b[0m \u001b[0;32mas\u001b[0m \u001b[0mf\u001b[0m\u001b[0;34m:\u001b[0m\u001b[0;34m\u001b[0m\u001b[0m\n\u001b[0m\u001b[1;32m    571\u001b[0m             \u001b[0;32mwith\u001b[0m \u001b[0m_read_fileobject\u001b[0m\u001b[0;34m(\u001b[0m\u001b[0mf\u001b[0m\u001b[0;34m,\u001b[0m \u001b[0mfilename\u001b[0m\u001b[0;34m,\u001b[0m \u001b[0mmmap_mode\u001b[0m\u001b[0;34m)\u001b[0m \u001b[0;32mas\u001b[0m \u001b[0mfobj\u001b[0m\u001b[0;34m:\u001b[0m\u001b[0;34m\u001b[0m\u001b[0m\n\u001b[1;32m    572\u001b[0m                 \u001b[0;32mif\u001b[0m \u001b[0misinstance\u001b[0m\u001b[0;34m(\u001b[0m\u001b[0mfobj\u001b[0m\u001b[0;34m,\u001b[0m \u001b[0m_basestring\u001b[0m\u001b[0;34m)\u001b[0m\u001b[0;34m:\u001b[0m\u001b[0;34m\u001b[0m\u001b[0m\n",
      "\u001b[0;31mFileNotFoundError\u001b[0m: [Errno 2] No such file or directory: 'mlp.pickle'"
     ]
    }
   ],
   "source": [
    "# load json and create model\n",
    "balanced_mlp = open('balanced_mlp_model.json', 'r')\n",
    "balanced_mlp_json = balanced_mlp.read()\n",
    "balanced_mlp.close()\n",
    "balanced_mlp_model = model_from_json(balanced_mlp_json)\n",
    "# load weights into new model\n",
    "balanced_mlp_model.load_weights(\"balanced_mlp_model.h5\")\n",
    "print(\"Loaded MLP balanced model from disk\")\n",
    "\n",
    "# load json and create model\n",
    "ros_mlp = open('ros_mlp_model.json', 'r')\n",
    "ros_mlp_json = ros_mlp.read()\n",
    "ros_mlp.close()\n",
    "ros_mlp_model = model_from_json(ros_mlp_json)\n",
    "# load weights into new model\n",
    "ros_mlp_model.load_weights(\"ros_mlp_model.h5\")\n",
    "print(\"Loaded ROS balanced model from disk\")"
   ]
  },
  {
   "cell_type": "code",
   "execution_count": 10,
   "metadata": {},
   "outputs": [],
   "source": [
    "# Load npz file containing image arrays\n",
    "x_npz = np.load(\"x_images_arrays.npz\")\n",
    "x = x_npz['arr_0']\n",
    "# Load disease labels\n",
    "y_npz = np.load(\"y_disease_labels.npz\")\n",
    "y = y_npz['arr_0']"
   ]
  },
  {
   "cell_type": "code",
   "execution_count": 11,
   "metadata": {},
   "outputs": [],
   "source": [
    "# ../input/\n",
    "PATH = os.path.abspath(os.path.join('input'))\n",
    "\n",
    "# ../input/sample/images/\n",
    "SOURCE_IMAGES = os.path.join(PATH, \"sample\", \"images\")\n",
    "\n",
    "# ../input/sample/images/*.png\n",
    "images = glob(os.path.join(SOURCE_IMAGES, \"*.png\"))\n",
    "\n",
    "# Load labels\n",
    "labels = pd.read_csv('input/sample_labels.csv')"
   ]
  },
  {
   "cell_type": "markdown",
   "metadata": {},
   "source": [
    "## Process Overview"
   ]
  },
  {
   "cell_type": "code",
   "execution_count": null,
   "metadata": {},
   "outputs": [],
   "source": [
    "![Model Diagram](model_diagram.jpg \"Model Diagram\")"
   ]
  },
  {
   "cell_type": "markdown",
   "metadata": {},
   "source": [
    "## Exploratory Data Analysis"
   ]
  },
  {
   "cell_type": "markdown",
   "metadata": {},
   "source": [
    "### Sample X-Ray Images by Disease"
   ]
  },
  {
   "cell_type": "code",
   "execution_count": 12,
   "metadata": {},
   "outputs": [
    {
     "data": {
      "application/vnd.jupyter.widget-view+json": {
       "model_id": "815f0094d1634b31ab85301dc82c5ba3",
       "version_major": 2,
       "version_minor": 0
      },
      "text/plain": [
       "interactive(children=(Dropdown(description='pathology', options=('Hernia', 'Pneumonia', 'Fibrosis', 'Edema', '…"
      ]
     },
     "metadata": {},
     "output_type": "display_data"
    },
    {
     "data": {
      "text/plain": [
       "<function __main__.generate_xray(pathology)>"
      ]
     },
     "execution_count": 12,
     "metadata": {},
     "output_type": "execute_result"
    }
   ],
   "source": [
    "infiltration = cv2.imread(os.path.join(SOURCE_IMAGES,'00030209_008.png'))\n",
    "no_finding = cv2.imread(os.path.join(SOURCE_IMAGES,'00000017_001.png'))\n",
    "atelectasis = cv2.imread(os.path.join(SOURCE_IMAGES,'00000030_001.png'))\n",
    "effusion = cv2.imread(os.path.join(SOURCE_IMAGES,'00000061_002.png'))\n",
    "mass = cv2.imread(os.path.join(SOURCE_IMAGES,'00000079_000.png'))\n",
    "consolidation = cv2.imread(os.path.join(SOURCE_IMAGES,'00030636_012.png'))\n",
    "pneumothorax = cv2.imread(os.path.join(SOURCE_IMAGES,'00022668_000.png'))\n",
    "hernia = cv2.imread(os.path.join(SOURCE_IMAGES,'00007352_000.png'))\n",
    "pneumonia = cv2.imread(os.path.join(SOURCE_IMAGES,'00028924_005.png'))\n",
    "fibrosis = cv2.imread(os.path.join(SOURCE_IMAGES,'00004048_012.png'))\n",
    "edema = cv2.imread(os.path.join(SOURCE_IMAGES,'00027782_002.png'))\n",
    "emphysema = cv2.imread(os.path.join(SOURCE_IMAGES,'00029981_002.png'))\n",
    "cardiomegaly = cv2.imread(os.path.join(SOURCE_IMAGES,'00029510_000.png'))\n",
    "pleural_thickening = cv2.imread(os.path.join(SOURCE_IMAGES,'00028505_012.png'))\n",
    "nodule = cv2.imread(os.path.join(SOURCE_IMAGES,'00030301_000.png'))\n",
    "\n",
    "#Peak Active time\n",
    "def check_pathology(pathology):\n",
    "    if pathology=='Infiltration':\n",
    "        return infiltration\n",
    "    elif pathology=='No Finding':\n",
    "        return no_finding\n",
    "    elif pathology=='Atelectasis':\n",
    "        return atelectasis\n",
    "    elif pathology=='Effusion':\n",
    "        return effusion\n",
    "    elif pathology=='Mass':\n",
    "        return mass\n",
    "    elif pathology=='Consolidation':\n",
    "        return consolidation\n",
    "    elif pathology=='Hernia':\n",
    "        return hernia\n",
    "    elif pathology=='Pneumonia':\n",
    "        return pneumonia\n",
    "    elif pathology=='Fibrosis':\n",
    "        return fibrosis\n",
    "    elif pathology=='Edema':\n",
    "        return edema\n",
    "    elif pathology=='Emphysema':\n",
    "        return emphysema\n",
    "    elif pathology=='Cardiomegaly':\n",
    "        return cardiomegaly\n",
    "    elif pathology=='Pleural Thickening':\n",
    "        return pleural_thickening\n",
    "    elif pathology=='Nodule':\n",
    "        return nodule\n",
    "    elif pathology=='Pneumothorax':\n",
    "        return pneumothorax\n",
    "    \n",
    "def generate_xray(pathology):\n",
    "    xray = check_pathology(pathology)\n",
    "    return plt.imshow(xray)\n",
    "interact(generate_xray, pathology=['Hernia', 'Pneumonia', 'Fibrosis', 'Edema', 'Emphysema', 'Cardiomegaly', \n",
    "                              'Pleural Thickening','Consolidation', 'Pneumothorax', 'Mass', 'Nodule', 'Atelectasis', \n",
    "                              'Effusion', 'Infiltration','No Finding'])\n"
   ]
  },
  {
   "cell_type": "code",
   "execution_count": 13,
   "metadata": {},
   "outputs": [],
   "source": [
    "#Cleaning Dataset\n",
    "df = labels\n",
    "single = df[df['Finding Labels'].map(lambda x: \"|\" not in str(x))]\n",
    "multiple = df[df['Finding Labels'].map(lambda x: \"|\" in str(x))]\n",
    "# len(multiple[multiple['Finding Labels']=='Infiltration'])"
   ]
  },
  {
   "cell_type": "markdown",
   "metadata": {},
   "source": [
    "### Single vs. Multiple Pathologies"
   ]
  },
  {
   "cell_type": "code",
   "execution_count": 36,
   "metadata": {},
   "outputs": [
    {
     "data": {
      "text/plain": [
       "<matplotlib.legend.Legend at 0x1a51be05f8>"
      ]
     },
     "execution_count": 36,
     "metadata": {},
     "output_type": "execute_result"
    },
    {
     "data": {
      "image/png": "[encoded data removed]",
      "text/plain": [
       "<Figure size 1080x720 with 1 Axes>"
      ]
     },
     "metadata": {},
     "output_type": "display_data"
    }
   ],
   "source": [
    "def path_count(pathology):\n",
    "    if \"|\" not in pathology:\n",
    "        return 0\n",
    "    else:\n",
    "        return 1\n",
    "\n",
    "def multiple_count(pathology_column):\n",
    "    return pathology_column.map(lambda x: path_count(x))\n",
    "\n",
    "df['Multiple'] = multiple_count(df['Finding Labels'])\n",
    "\n",
    "pathology_list = ['Cardiomegaly','Emphysema','Effusion','Hernia','Nodule','Pneumothorax','Atelectasis',\n",
    "                  'Pleural_Thickening','Mass','Edema','Consolidation','Infiltration','Fibrosis','Pneumonia']\n",
    "for pathology in pathology_list:\n",
    "    df[pathology] = df['Finding Labels'].apply(lambda x: 1 if pathology in x else 0)\n",
    "    \n",
    "data1 = pd.melt(df,\n",
    "             id_vars=['Multiple'],\n",
    "             value_vars = list(pathology_list),\n",
    "             var_name = 'Category',\n",
    "             value_name = 'Count')\n",
    "data1 = data1.loc[data1.Count>0]\n",
    "\n",
    "f, ax = plt.subplots(sharex=True,figsize=(15, 10))\n",
    "p=sns.countplot(y='Category',data=data1, \n",
    "                order = data1['Category'].value_counts().index,ax=ax,color='lightsalmon',label=\"Multiple Pathologies\")\n",
    "p=sns.countplot(y='Finding Labels',data=single, ax=ax, color=\"mediumaquamarine\",label=\"Single Pathology\")\n",
    "ax.set_title('Pathology Distribution')\n",
    "ax.set_ylabel('')\n",
    "ax.set_xlabel('Count')\n",
    "plt.legend(bbox_to_anchor=(1.05, 1), loc=2, borderaxespad=0.)"
   ]
  },
  {
   "cell_type": "markdown",
   "metadata": {},
   "source": [
    "### Single Pathology Distribution by Gender "
   ]
  },
  {
   "cell_type": "code",
   "execution_count": 15,
   "metadata": {},
   "outputs": [
    {
     "name": "stderr",
     "output_type": "stream",
     "text": [
      "/anaconda3/lib/python3.6/site-packages/ipykernel_launcher.py:12: SettingWithCopyWarning: \n",
      "A value is trying to be set on a copy of a slice from a DataFrame.\n",
      "Try using .loc[row_indexer,col_indexer] = value instead\n",
      "\n",
      "See the caveats in the documentation: http://pandas.pydata.org/pandas-docs/stable/indexing.html#indexing-view-versus-copy\n",
      "  if sys.path[0] == '':\n"
     ]
    }
   ],
   "source": [
    "def clean_age(age):\n",
    "    if 'Y' not in age:\n",
    "        age = '0'\n",
    "    else:\n",
    "        age = age\n",
    "    clean_age = ''.join(i for i in age if i.isdigit())\n",
    "    return int(clean_age)\n",
    "\n",
    "def clean_all_ages(age_column):\n",
    "    return age_column.map(lambda x: clean_age(x))\n",
    "\n",
    "single['Patient Age'] = clean_all_ages(single['Patient Age'])\n"
   ]
  },
  {
   "cell_type": "code",
   "execution_count": 16,
   "metadata": {},
   "outputs": [
    {
     "data": {
      "text/plain": [
       "<matplotlib.legend.Legend at 0x111963198>"
      ]
     },
     "execution_count": 16,
     "metadata": {},
     "output_type": "execute_result"
    },
    {
     "data": {
      "image/png": "[encoded data removed]",
      "text/plain": [
       "<Figure size 720x720 with 1 Axes>"
      ]
     },
     "metadata": {},
     "output_type": "display_data"
    }
   ],
   "source": [
    "fig, ax = plt.subplots(figsize=(10, 10))\n",
    "ax = sns.countplot(y=\"Finding Labels\", hue=\"Patient Gender\", data=single, palette='seismic')\n",
    "ax.set_title('Pathology Distribution')\n",
    "ax.set_ylabel('')\n",
    "ax.set_xlabel('Count')\n",
    "plt.legend(bbox_to_anchor=(1.05, 1), loc=2, borderaxespad=0.)"
   ]
  },
  {
   "cell_type": "markdown",
   "metadata": {},
   "source": [
    "### Single Pathology Distribution, by Patient Age"
   ]
  },
  {
   "cell_type": "code",
   "execution_count": 17,
   "metadata": {},
   "outputs": [
    {
     "data": {
      "image/png": "[encoded data removed]",
      "text/plain": [
       "<Figure size 720x720 with 1 Axes>"
      ]
     },
     "metadata": {},
     "output_type": "display_data"
    }
   ],
   "source": [
    "f, ax = plt.subplots(figsize=(10, 10))\n",
    "plt.xlim(0, 100)\n",
    "ax = sns.boxplot(y='Finding Labels',x='Patient Age',data=single,palette='winter')"
   ]
  },
  {
   "cell_type": "markdown",
   "metadata": {},
   "source": [
    "## Data Cleaning"
   ]
  },
  {
   "cell_type": "markdown",
   "metadata": {},
   "source": [
    "* Images resized from 1024x1024 to 128x128\n",
    "* Eliminate x-rays with multiple pathologies\n",
    "* Rare diseases grouped together"
   ]
  },
  {
   "cell_type": "markdown",
   "metadata": {},
   "source": [
    "## Labels"
   ]
  },
  {
   "cell_type": "code",
   "execution_count": null,
   "metadata": {},
   "outputs": [],
   "source": [
    "#add images here "
   ]
  },
  {
   "cell_type": "markdown",
   "metadata": {},
   "source": [
    "## Class Imbalance"
   ]
  },
  {
   "cell_type": "code",
   "execution_count": 40,
   "metadata": {},
   "outputs": [
    {
     "data": {
      "text/plain": [
       "Text(0.5,1,'Pathology Distribution')"
      ]
     },
     "execution_count": 40,
     "metadata": {},
     "output_type": "execute_result"
    },
    {
     "data": {
      "image/png": "[encoded data removed]",
      "text/plain": [
       "<Figure size 720x720 with 1 Axes>"
      ]
     },
     "metadata": {},
     "output_type": "display_data"
    }
   ],
   "source": [
    "clean_df = single\n",
    "df['Finding Labels'] = df['Finding Labels'].apply(lambda x: 'Rare Diseases' if x in else 0)\n",
    "\n",
    "fig, ax = plt.subplots(figsize=(10, 10))\n",
    "ax = sns.countplot(y=\"Finding Labels\", data=clean_df, palette='rainbow')\n",
    "ax.set_ylabel('')\n",
    "ax.set_xlabel('Count')\n",
    "ax.set_title('Pathology Distribution')"
   ]
  },
  {
   "cell_type": "code",
   "execution_count": null,
   "metadata": {},
   "outputs": [],
   "source": []
  },
  {
   "cell_type": "markdown",
   "metadata": {},
   "source": [
    "### Solutions"
   ]
  },
  {
   "cell_type": "markdown",
   "metadata": {},
   "source": [
    "* Class Weights\n",
    "* Random over-sampling\n",
    "* Data Augmentation"
   ]
  },
  {
   "cell_type": "markdown",
   "metadata": {},
   "source": [
    "## Multilayer Perceptron"
   ]
  },
  {
   "cell_type": "markdown",
   "metadata": {},
   "source": [
    "### Balanced Class Weights"
   ]
  },
  {
   "cell_type": "code",
   "execution_count": null,
   "metadata": {},
   "outputs": [],
   "source": [
    "#load model\n",
    "loaded_model.compile(loss='categorical_crossentropy', optimizer=optimizer, metrics=['accuracy'])\n",
    "score = loaded_model.evaluate(X_test_reshape, y_testHot)\n",
    "print(\"%s: %.2f%%\" % (loaded_model.metrics_names[1], score[1]*100))\n",
    "#architecture and hyperparameters\n"
   ]
  },
  {
   "cell_type": "code",
   "execution_count": null,
   "metadata": {},
   "outputs": [],
   "source": [
    "#plot of training vs. validation"
   ]
  },
  {
   "cell_type": "code",
   "execution_count": null,
   "metadata": {},
   "outputs": [],
   "source": [
    "#confusion matrix\n",
    "def confusion matrix(X_test, y_test):\n",
    "    y_pred = model.predict(X_test)\n",
    "    cm = confusion_matrix(y_test, y_pred)"
   ]
  },
  {
   "cell_type": "markdown",
   "metadata": {},
   "source": [
    "### Random Oversampling"
   ]
  },
  {
   "cell_type": "code",
   "execution_count": null,
   "metadata": {},
   "outputs": [],
   "source": []
  },
  {
   "cell_type": "markdown",
   "metadata": {},
   "source": [
    "## Convolutional Neural Networks"
   ]
  },
  {
   "cell_type": "code",
   "execution_count": null,
   "metadata": {},
   "outputs": [],
   "source": [
    "#architecture and hyperparameters"
   ]
  },
  {
   "cell_type": "code",
   "execution_count": null,
   "metadata": {},
   "outputs": [],
   "source": [
    "#plot of training vs. validation"
   ]
  },
  {
   "cell_type": "code",
   "execution_count": null,
   "metadata": {},
   "outputs": [],
   "source": [
    "#confusion matrix"
   ]
  },
  {
   "cell_type": "markdown",
   "metadata": {},
   "source": [
    "## Transfer Learning"
   ]
  },
  {
   "cell_type": "code",
   "execution_count": 38,
   "metadata": {},
   "outputs": [],
   "source": [
    "#architecture and hyperparameters"
   ]
  },
  {
   "cell_type": "code",
   "execution_count": null,
   "metadata": {},
   "outputs": [],
   "source": [
    "#plot of training vs. validation"
   ]
  },
  {
   "cell_type": "markdown",
   "metadata": {},
   "source": [
    "## Random Image Generator"
   ]
  },
  {
   "cell_type": "code",
   "execution_count": 37,
   "metadata": {},
   "outputs": [
    {
     "data": {
      "application/vnd.jupyter.widget-view+json": {
       "model_id": "7308f5211055440c8db187e1f2efc950",
       "version_major": 2,
       "version_minor": 0
      },
      "text/plain": [
       "VBox(children=(Output(), Button(description='Generate X-Ray!', style=ButtonStyle())))"
      ]
     },
     "metadata": {},
     "output_type": "display_data"
    }
   ],
   "source": [
    "# produce random image, prediction, and actual label \n",
    "\n",
    "def pathology_label(val):\n",
    "    pathology_dict = {0: 'No Finding', 1: 'Consolidation', 2: 'Infiltration', 3: 'Pneumothorax', \n",
    "                      4:'Effusion', 5: 'Nodule Mass', 6: 'Atelectasis', 7: \"Other Rare Classes\"}\n",
    "    return [v for k, v in pathology_dict.items() if k==val][0]\n",
    "\n",
    "def make_prediction():\n",
    "    rand_image = single.sample(1)\n",
    "    img_index = rand_image['Image Index'].tolist()[0]\n",
    "    img = cv2.imread(os.path.join(SOURCE_IMAGES, img_index))\n",
    "#     test_img = image.load_img(os.path.join(SOURCE_IMAGES, img_index), target_size = (128, 128))\n",
    "    img_pathology = rand_image['Finding Labels'].tolist()[0]\n",
    "#     test_img = img_to_array(test_img)\n",
    "#     test_img = np.expand_dims(test_img, axis = 0)\n",
    "#     result = model.predict(test_img)\n",
    "#     val = result[0][0]\n",
    "#     prediction = pathology_label(val)\n",
    "    print(\"Randomly generated image is labeled as: \" + img_pathology) \n",
    "#     + \". The model has predicted the pathology to be: \" + prediction + \".\")\n",
    "    return img\n",
    "    \n",
    "out=widgets.Output()\n",
    "button=widgets.Button(description='Generate X-Ray!')\n",
    "vbox=widgets.VBox(children=(out,button))\n",
    "display(vbox)\n",
    "\n",
    "def on_button_clicked(b):\n",
    "    with out:\n",
    "        clear_output(wait=True)\n",
    "        img = make_prediction()\n",
    "        plt.imshow(img)\n",
    "        show_inline_matplotlib_plots()\n",
    "\n",
    "button.on_click(on_button_clicked)"
   ]
  },
  {
   "cell_type": "markdown",
   "metadata": {},
   "source": [
    "## Conclusions"
   ]
  },
  {
   "cell_type": "markdown",
   "metadata": {},
   "source": [
    "### Limitations "
   ]
  },
  {
   "cell_type": "markdown",
   "metadata": {},
   "source": [
    "#### Label Accuracy \n",
    "*Source: https://lukeoakdenrayner.wordpress.com/2017/12/18/the-chestxray14-dataset-problems/*\n",
    "* Labels were produced, using text mining (from clinical reports connected with the images)\n",
    "* Cross-validation of labels based on two annotators who looked at the reports (but not the images)\n",
    "* Based on this process, label accuracy was >90%\n",
    "* Actual label accuracy, based on the images alone (radiologist-labeled), was much lower"
   ]
  },
  {
   "cell_type": "markdown",
   "metadata": {},
   "source": [
    "![Label Accuracy Diagram](label_accuracy.png \"Label Accuracy\")"
   ]
  },
  {
   "cell_type": "markdown",
   "metadata": {},
   "source": [
    "* Data flawed, with inaccurate labels \n",
    "* Models only trained to fit on these images so they're essentially fitting on noise -- any predictions would be nonsensical\n",
    "* Because data is flawed with lots of noise, we had many issues with validation loss and accuracy in spite of hyperparameter tuning"
   ]
  },
  {
   "cell_type": "markdown",
   "metadata": {},
   "source": [
    "## Next Steps"
   ]
  },
  {
   "cell_type": "markdown",
   "metadata": {},
   "source": [
    "* Include other parameters (patient age, gender)"
   ]
  },
  {
   "cell_type": "code",
   "execution_count": null,
   "metadata": {},
   "outputs": [],
   "source": []
  }
 ],
 "metadata": {
  "kernelspec": {
   "display_name": "Python 3",
   "language": "python",
   "name": "python3"
  },
  "language_info": {
   "codemirror_mode": {
    "name": "ipython",
    "version": 3
   },
   "file_extension": ".py",
   "mimetype": "text/x-python",
   "name": "python",
   "nbconvert_exporter": "python",
   "pygments_lexer": "ipython3",
   "version": "3.6.5"
  }
 },
 "nbformat": 4,
 "nbformat_minor": 2
}
